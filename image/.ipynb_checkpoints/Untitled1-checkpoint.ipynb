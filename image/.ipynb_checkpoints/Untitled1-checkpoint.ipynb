{
 "cells": [
  {
   "cell_type": "code",
   "execution_count": 2,
   "metadata": {},
   "outputs": [],
   "source": [
    "import matplotlib.pyplot as plt\n",
    "import numpy as np\n",
    "import string\n",
    "from PIL import Image"
   ]
  },
  {
   "cell_type": "code",
   "execution_count": 3,
   "metadata": {},
   "outputs": [],
   "source": [
    "### test"
   ]
  },
  {
   "cell_type": "code",
   "execution_count": 5,
   "metadata": {},
   "outputs": [],
   "source": [
    "T_s = np.array([[2, 0, 0], [0, 2, 0], [0, 0, 1]])\n",
    "T_r = np.array([[0, 1, 0], [-1, 0, 0], [0, 0, 1]])\n",
    "T = T_s @ T_r"
   ]
  },
  {
   "cell_type": "markdown",
   "metadata": {},
   "source": [
    "We would create two transforamtion matricecs. The first one would be the rotation tarnsformation matrix $$\n",
    "                \\begin{bmatrix}\n",
    "                cos \\Theta & sin \\Theta & 0 \\\\ \n",
    "                -sin \\Theta & cos \\Theta & 0 \\\\ \n",
    "                0 & 0 & 1 \n",
    "                \\end{bmatrix}\n",
    "            $$\n",
    "            "
   ]
  },
  {
   "cell_type": "code",
   "execution_count": 12,
   "metadata": {},
   "outputs": [],
   "source": [
    "image = Image.open('img.jpeg').convert('RGB')\n",
    "\n",
    "# Load the image as a matrix\n",
    "img = np.array(image)\n",
    "transformWidth  = img.shape[0] *2\n",
    "transformWidth  = img.shape[1] *2\n",
    "\n",
    "img_transformed = np.empty((transformWidth, transformWidth,img.shape[2]), dtype=np.uint8)\n",
    "\n"
   ]
  },
  {
   "cell_type": "code",
   "execution_count": null,
   "metadata": {},
   "outputs": [],
   "source": [
    "for i, row in enumerate(img):\n",
    "    for j, col in enumerate(row):\n",
    "        \n",
    "        pixel_data = img[i, j, :]\n",
    "        input_coords = np.array([i, j, 1])\n",
    "        i_out, j_out, _ = T @ input_coords\n",
    "        img_transformed[i_out, j_out, :] = pixel_data\n",
    "\n",
    "T_inv = np.linalg.inv(T)\n"
   ]
  },
  {
   "cell_type": "code",
   "execution_count": 11,
   "metadata": {},
   "outputs": [
    {
     "data": {
      "image/png": "[encoded data removed]",
      "text/plain": [
       "<Figure size 432x288 with 1 Axes>"
      ]
     },
     "metadata": {
      "needs_background": "light"
     },
     "output_type": "display_data"
    }
   ],
   "source": [
    "plt.imshow(img_transformed)\n",
    "plt.show()"
   ]
  }
 ],
 "metadata": {
  "kernelspec": {
   "display_name": "Python 3",
   "language": "python",
   "name": "python3"
  },
  "language_info": {
   "codemirror_mode": {
    "name": "ipython",
    "version": 3
   },
   "file_extension": ".py",
   "mimetype": "text/x-python",
   "name": "python",
   "nbconvert_exporter": "python",
   "pygments_lexer": "ipython3",
   "version": "3.8.5"
  }
 },
 "nbformat": 4,
 "nbformat_minor": 4
}
